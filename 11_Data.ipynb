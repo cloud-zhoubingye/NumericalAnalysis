{
 "cells": [
  {
   "cell_type": "markdown",
   "metadata": {},
   "source": [
    "### TXT Files"
   ]
  },
  {
   "cell_type": "code",
   "execution_count": 65,
   "metadata": {},
   "outputs": [],
   "source": [
    "f = open('./data/test.txt', 'w')\n",
    "for i in range(5):\n",
    "    f.write(f\"This is line {i}\\n\")\n",
    "    \n",
    "f.close()"
   ]
  },
  {
   "cell_type": "code",
   "execution_count": 66,
   "metadata": {},
   "outputs": [],
   "source": [
    "f = open('./data/test.txt', 'a')\n",
    "f.write(f\"This is another line\\n\")\n",
    "f.close()"
   ]
  },
  {
   "cell_type": "code",
   "execution_count": 67,
   "metadata": {},
   "outputs": [
    {
     "name": "stdout",
     "output_type": "stream",
     "text": [
      "This is line 0\n",
      "This is line 1\n",
      "This is line 2\n",
      "This is line 3\n",
      "This is line 4\n",
      "This is another line\n",
      "\n"
     ]
    },
    {
     "data": {
      "text/plain": [
       "str"
      ]
     },
     "execution_count": 67,
     "metadata": {},
     "output_type": "execute_result"
    }
   ],
   "source": [
    "f = open('./data/test.txt', 'r')\n",
    "content = f.read()\n",
    "f.close()\n",
    "print(content)\n",
    "type(content)"
   ]
  },
  {
   "cell_type": "code",
   "execution_count": 68,
   "metadata": {},
   "outputs": [
    {
     "name": "stdout",
     "output_type": "stream",
     "text": [
      "['This is line 0\\n', 'This is line 1\\n', 'This is line 2\\n', 'This is line 3\\n', 'This is line 4\\n', 'This is another line\\n']\n"
     ]
    },
    {
     "data": {
      "text/plain": [
       "list"
      ]
     },
     "execution_count": 68,
     "metadata": {},
     "output_type": "execute_result"
    }
   ],
   "source": [
    "f = open('./data/test.txt', 'r')\n",
    "contents = f.readlines()\n",
    "f.close()\n",
    "print(contents)\n",
    "type(contents)"
   ]
  },
  {
   "cell_type": "code",
   "execution_count": 69,
   "metadata": {},
   "outputs": [],
   "source": [
    "import numpy as np\n",
    "arr = np.array([[1.20, 2.20, 3.00], [4.14, 5.65, 6.42]])\n",
    "np.savetxt('./data/my_arr.txt', arr, fmt='%.2f', header = 'Col1 Col2 Col3')"
   ]
  },
  {
   "cell_type": "code",
   "execution_count": 70,
   "metadata": {},
   "outputs": [
    {
     "data": {
      "text/plain": [
       "array([[1.2 , 2.2 , 3.  ],\n",
       "       [4.14, 5.65, 6.42]])"
      ]
     },
     "execution_count": 70,
     "metadata": {},
     "output_type": "execute_result"
    }
   ],
   "source": [
    "my_arr = np.loadtxt('./data/my_arr.txt')\n",
    "my_arr"
   ]
  },
  {
   "cell_type": "markdown",
   "metadata": {},
   "source": [
    "### CSV Files"
   ]
  },
  {
   "cell_type": "code",
   "execution_count": 71,
   "metadata": {},
   "outputs": [],
   "source": [
    "import numpy as np\n",
    "data = np.random.random((100,5))\n",
    "np.savetxt(\"./data/test.csv\",data,fmt='%.2f',\n",
    "           delimiter=',',header='C1,C2,C3,C4,C5')"
   ]
  },
  {
   "cell_type": "code",
   "execution_count": 72,
   "metadata": {},
   "outputs": [
    {
     "data": {
      "text/plain": [
       "array([[0.06, 0.84, 0.08, 0.27, 0.84],\n",
       "       [0.24, 0.42, 0.01, 0.4 , 0.04],\n",
       "       [0.52, 0.69, 0.66, 0.7 , 1.  ],\n",
       "       [0.6 , 0.78, 0.77, 0.86, 0.28],\n",
       "       [0.46, 0.61, 0.74, 0.05, 0.43]])"
      ]
     },
     "execution_count": 72,
     "metadata": {},
     "output_type": "execute_result"
    }
   ],
   "source": [
    "my_csv = np.loadtxt('./data/test.csv',delimiter=',')\n",
    "my_csv[:5, :]"
   ]
  },
  {
   "cell_type": "markdown",
   "metadata": {},
   "source": [
    "### Pickle Files"
   ]
  },
  {
   "cell_type": "code",
   "execution_count": 73,
   "metadata": {},
   "outputs": [],
   "source": [
    "import pickle"
   ]
  },
  {
   "cell_type": "code",
   "execution_count": 74,
   "metadata": {},
   "outputs": [],
   "source": [
    "dict_a={'A':0,'B':1,'C':2}\n",
    "pickle.dump(dict_a,open('./data/test.pkl','wb'))"
   ]
  },
  {
   "cell_type": "code",
   "execution_count": 75,
   "metadata": {},
   "outputs": [
    {
     "data": {
      "text/plain": [
       "{'A': 0, 'B': 1, 'C': 2}"
      ]
     },
     "execution_count": 75,
     "metadata": {},
     "output_type": "execute_result"
    }
   ],
   "source": [
    "my_dict=pickle.load(open('./data/test.pkl','rb'))\n",
    "my_dict"
   ]
  },
  {
   "cell_type": "markdown",
   "metadata": {},
   "source": [
    "### JSON Files"
   ]
  },
  {
   "cell_type": "code",
   "execution_count": 76,
   "metadata": {},
   "outputs": [],
   "source": [
    "import json"
   ]
  },
  {
   "cell_type": "code",
   "execution_count": 77,
   "metadata": {},
   "outputs": [],
   "source": [
    "school = {\n",
    "  \"school\": \"UC Berkeley\",\n",
    "  \"address\": {\n",
    "    \"city\": \"Berkeley\", \n",
    "    \"state\": \"California\",\n",
    "    \"postal\": \"94720\"\n",
    "  }, \n",
    "    \n",
    "  \"list\":[\n",
    "      \"student 1\",\n",
    "      \"student 2\",\n",
    "      \"student 3\"\n",
    "      ],\n",
    "    \n",
    "  \"array\":[1, 2, 3]\n",
    "}\n",
    "json.dump(school,open('./data/school.json','w'))"
   ]
  },
  {
   "cell_type": "code",
   "execution_count": 78,
   "metadata": {},
   "outputs": [],
   "source": [
    "my_school=json.load(open('./data/school.json','r'))"
   ]
  },
  {
   "cell_type": "markdown",
   "metadata": {},
   "source": [
    "### HDF5 Files"
   ]
  },
  {
   "cell_type": "code",
   "execution_count": 79,
   "metadata": {},
   "outputs": [],
   "source": [
    "import numpy as np\n",
    "import h5py"
   ]
  },
  {
   "cell_type": "code",
   "execution_count": 80,
   "metadata": {},
   "outputs": [],
   "source": [
    "# Generate random data for recording\n",
    "acc_1 = np.random.random(1000)\n",
    "station_number_1 = '1'\n",
    "# unix timestamp\n",
    "start_time_1 = 1542000276\n",
    "# time interval for recording\n",
    "dt_1 = 0.04\n",
    "location_1 = 'Berkeley'\n",
    "\n",
    "acc_2 = np.random.random(500)\n",
    "station_number_2 = '2'\n",
    "start_time_2 = 1542000576\n",
    "dt_2 = 0.01\n",
    "location_2 = 'Oakland'"
   ]
  },
  {
   "cell_type": "code",
   "execution_count": 81,
   "metadata": {},
   "outputs": [
    {
     "ename": "OSError",
     "evalue": "Unable to create file (unable to truncate a file which is already open)",
     "output_type": "error",
     "traceback": [
      "\u001b[1;31m---------------------------------------------------------------------------\u001b[0m",
      "\u001b[1;31mOSError\u001b[0m                                   Traceback (most recent call last)",
      "\u001b[1;32md:\\MyProgramme\\Python Programming\\NumericalAnalysis\\11_Data.ipynb 单元格 22\u001b[0m line \u001b[0;36m1\n\u001b[1;32m----> <a href='vscode-notebook-cell:/d%3A/MyProgramme/Python%20Programming/NumericalAnalysis/11_Data.ipynb#X32sZmlsZQ%3D%3D?line=0'>1</a>\u001b[0m hf\u001b[39m=\u001b[39mh5py\u001b[39m.\u001b[39;49mFile(\u001b[39m'\u001b[39;49m\u001b[39m./data/station.hdf5\u001b[39;49m\u001b[39m'\u001b[39;49m,\u001b[39m'\u001b[39;49m\u001b[39mw\u001b[39;49m\u001b[39m'\u001b[39;49m)\n\u001b[0;32m      <a href='vscode-notebook-cell:/d%3A/MyProgramme/Python%20Programming/NumericalAnalysis/11_Data.ipynb#X32sZmlsZQ%3D%3D?line=1'>2</a>\u001b[0m hf[\u001b[39m'\u001b[39m\u001b[39m/acc/1/data\u001b[39m\u001b[39m'\u001b[39m] \u001b[39m=\u001b[39m acc_1\n\u001b[0;32m      <a href='vscode-notebook-cell:/d%3A/MyProgramme/Python%20Programming/NumericalAnalysis/11_Data.ipynb#X32sZmlsZQ%3D%3D?line=2'>3</a>\u001b[0m hf[\u001b[39m'\u001b[39m\u001b[39m/acc/1/data\u001b[39m\u001b[39m'\u001b[39m]\u001b[39m.\u001b[39mattrs[\u001b[39m'\u001b[39m\u001b[39mdt\u001b[39m\u001b[39m'\u001b[39m] \u001b[39m=\u001b[39m dt_1\n",
      "File \u001b[1;32md:\\MyApplication\\Anaconda\\Anaconda\\envs\\pytorch\\lib\\site-packages\\h5py\\_hl\\files.py:533\u001b[0m, in \u001b[0;36mFile.__init__\u001b[1;34m(self, name, mode, driver, libver, userblock_size, swmr, rdcc_nslots, rdcc_nbytes, rdcc_w0, track_order, fs_strategy, fs_persist, fs_threshold, fs_page_size, page_buf_size, min_meta_keep, min_raw_keep, locking, alignment_threshold, alignment_interval, **kwds)\u001b[0m\n\u001b[0;32m    525\u001b[0m     fapl \u001b[39m=\u001b[39m make_fapl(driver, libver, rdcc_nslots, rdcc_nbytes, rdcc_w0,\n\u001b[0;32m    526\u001b[0m                      locking, page_buf_size, min_meta_keep, min_raw_keep,\n\u001b[0;32m    527\u001b[0m                      alignment_threshold\u001b[39m=\u001b[39malignment_threshold,\n\u001b[0;32m    528\u001b[0m                      alignment_interval\u001b[39m=\u001b[39malignment_interval,\n\u001b[0;32m    529\u001b[0m                      \u001b[39m*\u001b[39m\u001b[39m*\u001b[39mkwds)\n\u001b[0;32m    530\u001b[0m     fcpl \u001b[39m=\u001b[39m make_fcpl(track_order\u001b[39m=\u001b[39mtrack_order, fs_strategy\u001b[39m=\u001b[39mfs_strategy,\n\u001b[0;32m    531\u001b[0m                      fs_persist\u001b[39m=\u001b[39mfs_persist, fs_threshold\u001b[39m=\u001b[39mfs_threshold,\n\u001b[0;32m    532\u001b[0m                      fs_page_size\u001b[39m=\u001b[39mfs_page_size)\n\u001b[1;32m--> 533\u001b[0m     fid \u001b[39m=\u001b[39m make_fid(name, mode, userblock_size, fapl, fcpl, swmr\u001b[39m=\u001b[39;49mswmr)\n\u001b[0;32m    535\u001b[0m \u001b[39mif\u001b[39;00m \u001b[39misinstance\u001b[39m(libver, \u001b[39mtuple\u001b[39m):\n\u001b[0;32m    536\u001b[0m     \u001b[39mself\u001b[39m\u001b[39m.\u001b[39m_libver \u001b[39m=\u001b[39m libver\n",
      "File \u001b[1;32md:\\MyApplication\\Anaconda\\Anaconda\\envs\\pytorch\\lib\\site-packages\\h5py\\_hl\\files.py:232\u001b[0m, in \u001b[0;36mmake_fid\u001b[1;34m(name, mode, userblock_size, fapl, fcpl, swmr)\u001b[0m\n\u001b[0;32m    230\u001b[0m     fid \u001b[39m=\u001b[39m h5f\u001b[39m.\u001b[39mcreate(name, h5f\u001b[39m.\u001b[39mACC_EXCL, fapl\u001b[39m=\u001b[39mfapl, fcpl\u001b[39m=\u001b[39mfcpl)\n\u001b[0;32m    231\u001b[0m \u001b[39melif\u001b[39;00m mode \u001b[39m==\u001b[39m \u001b[39m'\u001b[39m\u001b[39mw\u001b[39m\u001b[39m'\u001b[39m:\n\u001b[1;32m--> 232\u001b[0m     fid \u001b[39m=\u001b[39m h5f\u001b[39m.\u001b[39;49mcreate(name, h5f\u001b[39m.\u001b[39;49mACC_TRUNC, fapl\u001b[39m=\u001b[39;49mfapl, fcpl\u001b[39m=\u001b[39;49mfcpl)\n\u001b[0;32m    233\u001b[0m \u001b[39melif\u001b[39;00m mode \u001b[39m==\u001b[39m \u001b[39m'\u001b[39m\u001b[39ma\u001b[39m\u001b[39m'\u001b[39m:\n\u001b[0;32m    234\u001b[0m     \u001b[39m# Open in append mode (read/write).\u001b[39;00m\n\u001b[0;32m    235\u001b[0m     \u001b[39m# If that fails, create a new file only if it won't clobber an\u001b[39;00m\n\u001b[0;32m    236\u001b[0m     \u001b[39m# existing one (ACC_EXCL)\u001b[39;00m\n\u001b[0;32m    237\u001b[0m     \u001b[39mtry\u001b[39;00m:\n",
      "File \u001b[1;32mh5py\\_objects.pyx:54\u001b[0m, in \u001b[0;36mh5py._objects.with_phil.wrapper\u001b[1;34m()\u001b[0m\n",
      "File \u001b[1;32mh5py\\_objects.pyx:55\u001b[0m, in \u001b[0;36mh5py._objects.with_phil.wrapper\u001b[1;34m()\u001b[0m\n",
      "File \u001b[1;32mh5py\\h5f.pyx:126\u001b[0m, in \u001b[0;36mh5py.h5f.create\u001b[1;34m()\u001b[0m\n",
      "\u001b[1;31mOSError\u001b[0m: Unable to create file (unable to truncate a file which is already open)"
     ]
    }
   ],
   "source": [
    "hf=h5py.File('./data/station.hdf5','w')\n",
    "hf['/acc/1/data'] = acc_1\n",
    "hf['/acc/1/data'].attrs['dt'] = dt_1\n",
    "hf['/acc/1/data'].attrs['start_time'] = start_time_1\n",
    "hf['/acc/1/data'].attrs['location'] = location_1\n",
    "\n",
    "hf['/acc/2/data'] = acc_2\n",
    "hf['/acc/2/data'].attrs['dt'] = dt_2\n",
    "hf['/acc/2/data'].attrs['start_time'] = start_time_2\n",
    "hf['/acc/2/data'].attrs['location'] = location_2\n",
    "\n",
    "hf['/gps/1/data'] = np.random.random(100)\n",
    "hf['/gps/1/data'].attrs['dt'] = 60\n",
    "hf['/gps/1/data'].attrs['start_time'] = 1542000000\n",
    "hf['/gps/1/data'].attrs['location'] = 'San Francisco'\n",
    "hf.close()"
   ]
  }
 ],
 "metadata": {
  "kernelspec": {
   "display_name": "pytorch",
   "language": "python",
   "name": "python3"
  },
  "language_info": {
   "codemirror_mode": {
    "name": "ipython",
    "version": 3
   },
   "file_extension": ".py",
   "mimetype": "text/x-python",
   "name": "python",
   "nbconvert_exporter": "python",
   "pygments_lexer": "ipython3",
   "version": "3.10.11"
  }
 },
 "nbformat": 4,
 "nbformat_minor": 2
}
