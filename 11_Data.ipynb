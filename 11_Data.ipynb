{
 "cells": [
  {
   "cell_type": "markdown",
   "metadata": {},
   "source": [
    "### TXT Files"
   ]
  },
  {
   "cell_type": "code",
   "execution_count": 18,
   "metadata": {},
   "outputs": [],
   "source": [
    "f = open('./data/test.txt', 'w')\n",
    "for i in range(5):\n",
    "    f.write(f\"This is line {i}\\n\")\n",
    "    \n",
    "f.close()"
   ]
  },
  {
   "cell_type": "code",
   "execution_count": 19,
   "metadata": {},
   "outputs": [],
   "source": [
    "f = open('./data/test.txt', 'a')\n",
    "f.write(f\"This is another line\\n\")\n",
    "f.close()"
   ]
  },
  {
   "cell_type": "code",
   "execution_count": 20,
   "metadata": {},
   "outputs": [
    {
     "name": "stdout",
     "output_type": "stream",
     "text": [
      "This is line 0\n",
      "This is line 1\n",
      "This is line 2\n",
      "This is line 3\n",
      "This is line 4\n",
      "This is another line\n",
      "\n"
     ]
    },
    {
     "data": {
      "text/plain": [
       "str"
      ]
     },
     "execution_count": 20,
     "metadata": {},
     "output_type": "execute_result"
    }
   ],
   "source": [
    "f = open('./data/test.txt', 'r')\n",
    "content = f.read()\n",
    "f.close()\n",
    "print(content)\n",
    "type(content)"
   ]
  },
  {
   "cell_type": "code",
   "execution_count": 21,
   "metadata": {},
   "outputs": [
    {
     "name": "stdout",
     "output_type": "stream",
     "text": [
      "['This is line 0\\n', 'This is line 1\\n', 'This is line 2\\n', 'This is line 3\\n', 'This is line 4\\n', 'This is another line\\n']\n"
     ]
    },
    {
     "data": {
      "text/plain": [
       "list"
      ]
     },
     "execution_count": 21,
     "metadata": {},
     "output_type": "execute_result"
    }
   ],
   "source": [
    "f = open('./data/test.txt', 'r')\n",
    "contents = f.readlines()\n",
    "f.close()\n",
    "print(contents)\n",
    "type(contents)"
   ]
  },
  {
   "cell_type": "code",
   "execution_count": 22,
   "metadata": {},
   "outputs": [],
   "source": [
    "import numpy as np\n",
    "arr = np.array([[1.20, 2.20, 3.00], [4.14, 5.65, 6.42]])\n",
    "np.savetxt('./data/my_arr.txt', arr, fmt='%.2f', header = 'Col1 Col2 Col3')"
   ]
  },
  {
   "cell_type": "code",
   "execution_count": 23,
   "metadata": {},
   "outputs": [
    {
     "data": {
      "text/plain": [
       "array([[1.2 , 2.2 , 3.  ],\n",
       "       [4.14, 5.65, 6.42]])"
      ]
     },
     "execution_count": 23,
     "metadata": {},
     "output_type": "execute_result"
    }
   ],
   "source": [
    "my_arr = np.loadtxt('./data/my_arr.txt')\n",
    "my_arr"
   ]
  },
  {
   "cell_type": "markdown",
   "metadata": {},
   "source": [
    "### CSV Files"
   ]
  },
  {
   "cell_type": "code",
   "execution_count": 24,
   "metadata": {},
   "outputs": [],
   "source": [
    "import numpy as np\n",
    "data = np.random.random((100,5))\n",
    "np.savetxt(\"./data/test.csv\",data,fmt='%.2f',\n",
    "           delimiter=',',header='C1,C2,C3,C4,C5')"
   ]
  },
  {
   "cell_type": "code",
   "execution_count": 25,
   "metadata": {},
   "outputs": [
    {
     "data": {
      "text/plain": [
       "array([[0.44, 0.01, 0.9 , 0.07, 0.91],\n",
       "       [0.11, 0.27, 0.54, 0.04, 0.01],\n",
       "       [0.88, 0.47, 0.66, 0.62, 0.59],\n",
       "       [0.3 , 0.05, 0.29, 0.8 , 0.08],\n",
       "       [0.07, 0.97, 0.2 , 0.3 , 0.23]])"
      ]
     },
     "execution_count": 25,
     "metadata": {},
     "output_type": "execute_result"
    }
   ],
   "source": [
    "my_csv = np.loadtxt('./data/test.csv',delimiter=',')\n",
    "my_csv[:5, :]"
   ]
  },
  {
   "cell_type": "markdown",
   "metadata": {},
   "source": [
    "### Pickle Files"
   ]
  },
  {
   "cell_type": "code",
   "execution_count": 26,
   "metadata": {},
   "outputs": [],
   "source": [
    "import pickle"
   ]
  },
  {
   "cell_type": "code",
   "execution_count": 27,
   "metadata": {},
   "outputs": [],
   "source": [
    "dict_a={'A':0,'B':1,'C':2}\n",
    "pickle.dump(dict_a,open('./data/test.pkl','wb'))"
   ]
  },
  {
   "cell_type": "code",
   "execution_count": 28,
   "metadata": {},
   "outputs": [
    {
     "data": {
      "text/plain": [
       "{'A': 0, 'B': 1, 'C': 2}"
      ]
     },
     "execution_count": 28,
     "metadata": {},
     "output_type": "execute_result"
    }
   ],
   "source": [
    "my_dict=pickle.load(open('./data/test.pkl','rb'))\n",
    "my_dict"
   ]
  },
  {
   "cell_type": "markdown",
   "metadata": {},
   "source": [
    "### JSON Files"
   ]
  },
  {
   "cell_type": "code",
   "execution_count": 29,
   "metadata": {},
   "outputs": [],
   "source": [
    "import json"
   ]
  },
  {
   "cell_type": "code",
   "execution_count": 30,
   "metadata": {},
   "outputs": [],
   "source": [
    "school = {\n",
    "  \"school\": \"UC Berkeley\",\n",
    "  \"address\": {\n",
    "    \"city\": \"Berkeley\", \n",
    "    \"state\": \"California\",\n",
    "    \"postal\": \"94720\"\n",
    "  }, \n",
    "    \n",
    "  \"list\":[\n",
    "      \"student 1\",\n",
    "      \"student 2\",\n",
    "      \"student 3\"\n",
    "      ],\n",
    "    \n",
    "  \"array\":[1, 2, 3]\n",
    "}\n",
    "json.dump(school,open('./data/school.json','w'))"
   ]
  },
  {
   "cell_type": "code",
   "execution_count": 31,
   "metadata": {},
   "outputs": [],
   "source": [
    "my_school=json.load(open('./data/school.json','r'))"
   ]
  },
  {
   "cell_type": "markdown",
   "metadata": {},
   "source": [
    "### HDF5 Files"
   ]
  },
  {
   "cell_type": "code",
   "execution_count": 32,
   "metadata": {},
   "outputs": [],
   "source": [
    "import numpy as np\n",
    "import h5py"
   ]
  },
  {
   "cell_type": "code",
   "execution_count": 33,
   "metadata": {},
   "outputs": [],
   "source": [
    "# Generate random data for recording\n",
    "acc_1 = np.random.random(1000)\n",
    "station_number_1 = '1'\n",
    "# unix timestamp\n",
    "start_time_1 = 1542000276\n",
    "# time interval for recording\n",
    "dt_1 = 0.04\n",
    "location_1 = 'Berkeley'\n",
    "\n",
    "acc_2 = np.random.random(500)\n",
    "station_number_2 = '2'\n",
    "start_time_2 = 1542000576\n",
    "dt_2 = 0.01\n",
    "location_2 = 'Oakland'"
   ]
  },
  {
   "cell_type": "code",
   "execution_count": 34,
   "metadata": {},
   "outputs": [],
   "source": [
    "hf=h5py.File('./data/station.hdf5','w')\n",
    "hf['/acc/1/data'] = acc_1\n",
    "hf['/acc/1/data'].attrs['dt'] = dt_1\n",
    "hf['/acc/1/data'].attrs['start_time'] = start_time_1\n",
    "hf['/acc/1/data'].attrs['location'] = location_1\n",
    "\n",
    "hf['/acc/2/data'] = acc_2\n",
    "hf['/acc/2/data'].attrs['dt'] = dt_2\n",
    "hf['/acc/2/data'].attrs['start_time'] = start_time_2\n",
    "hf['/acc/2/data'].attrs['location'] = location_2\n",
    "\n",
    "hf['/gps/1/data'] = np.random.random(100)\n",
    "hf['/gps/1/data'].attrs['dt'] = 60\n",
    "hf['/gps/1/data'].attrs['start_time'] = 1542000000\n",
    "hf['/gps/1/data'].attrs['location'] = 'San Francisco'\n",
    "hf.close()"
   ]
  },
  {
   "cell_type": "code",
   "execution_count": 35,
   "metadata": {},
   "outputs": [
    {
     "data": {
      "text/plain": [
       "['acc', 'gps']"
      ]
     },
     "execution_count": 35,
     "metadata": {},
     "output_type": "execute_result"
    }
   ],
   "source": [
    "hf=h5py.File('./data/station.hdf5','r')\n",
    "list(hf.keys())"
   ]
  },
  {
   "cell_type": "code",
   "execution_count": 37,
   "metadata": {},
   "outputs": [
    {
     "data": {
      "text/plain": [
       "['1', '2']"
      ]
     },
     "execution_count": 37,
     "metadata": {},
     "output_type": "execute_result"
    }
   ],
   "source": [
    "acc=hf['acc']\n",
    "list(acc.keys())"
   ]
  },
  {
   "cell_type": "code",
   "execution_count": 46,
   "metadata": {},
   "outputs": [
    {
     "name": "stdout",
     "output_type": "stream",
     "text": [
      "[0.45412358 0.04133047 0.11097445 0.59897294 0.52326416 0.67350614\n",
      " 0.27120703 0.79534638 0.1220152  0.11092935]\n",
      "['dt', 'location', 'start_time']\n"
     ]
    }
   ],
   "source": [
    "data_1 = hf['acc/1/data']\n",
    "print(data_1[:10])\n",
    "print(list(data_1.attrs))"
   ]
  },
  {
   "cell_type": "code",
   "execution_count": 47,
   "metadata": {},
   "outputs": [
    {
     "name": "stdout",
     "output_type": "stream",
     "text": [
      "0.04\n",
      "Berkeley\n"
     ]
    }
   ],
   "source": [
    "print(data_1.attrs['dt'])\n",
    "print(data_1.attrs['location'])"
   ]
  }
 ],
 "metadata": {
  "kernelspec": {
   "display_name": "pytorch",
   "language": "python",
   "name": "python3"
  },
  "language_info": {
   "codemirror_mode": {
    "name": "ipython",
    "version": 3
   },
   "file_extension": ".py",
   "mimetype": "text/x-python",
   "name": "python",
   "nbconvert_exporter": "python",
   "pygments_lexer": "ipython3",
   "version": "3.10.11"
  }
 },
 "nbformat": 4,
 "nbformat_minor": 2
}
