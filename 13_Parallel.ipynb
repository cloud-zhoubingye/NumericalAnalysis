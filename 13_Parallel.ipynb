{
 "cells": [
  {
   "cell_type": "markdown",
   "metadata": {},
   "source": [
    "### Multiprocessing"
   ]
  },
  {
   "cell_type": "code",
   "execution_count": 1,
   "metadata": {
    "ExecuteTime": {
     "end_time": "2023-10-29T08:21:44.288118500Z",
     "start_time": "2023-10-29T08:21:44.272069600Z"
    }
   },
   "outputs": [
    {
     "name": "stdout",
     "output_type": "stream",
     "text": [
      "Number of CPU:  20\n"
     ]
    }
   ],
   "source": [
    "import multiprocessing as mp\n",
    "print(\"Number of CPU: \",mp.cpu_count())"
   ]
  },
  {
   "cell_type": "code",
   "execution_count": 2,
   "metadata": {
    "ExecuteTime": {
     "end_time": "2023-10-29T08:21:44.910162700Z",
     "start_time": "2023-10-29T08:21:44.284069800Z"
    }
   },
   "outputs": [],
   "source": [
    "import numpy as np\n",
    "import time\n",
    "\n",
    "def random_square(seed):\n",
    "    np.random.seed(seed=seed)\n",
    "    random_num=np.random.randint(0,10)\n",
    "    return random_num**2"
   ]
  },
  {
   "cell_type": "code",
   "execution_count": 3,
   "metadata": {
    "ExecuteTime": {
     "end_time": "2023-10-29T08:21:44.927887400Z",
     "start_time": "2023-10-29T08:21:44.911162500Z"
    }
   },
   "outputs": [
    {
     "name": "stdout",
     "output_type": "stream",
     "text": [
      "Execution time 0.004215717315673828 s\n"
     ]
    }
   ],
   "source": [
    "# Serial version\n",
    "t0 = time.time()\n",
    "results = []\n",
    "for i in range(1000): \n",
    "    results.append(random_square(i))\n",
    "t1 = time.time()\n",
    "print(f'Execution time {t1 - t0} s')"
   ]
  },
  {
   "cell_type": "code",
   "execution_count": null,
   "metadata": {
    "is_executing": true,
    "ExecuteTime": {
     "start_time": "2023-10-29T08:21:44.928886900Z"
    }
   },
   "outputs": [],
   "source": [
    "# Parallel version\n",
    "t0 = time.time()\n",
    "n_cpu = mp.cpu_count()\n",
    "\n",
    "pool = mp.Pool(processes=n_cpu-5)\n",
    "results = [pool.map(random_square, range(100))]\n",
    "t1 = time.time()\n",
    "print(f'Execution time {t1 - t0} s')"
   ]
  },
  {
   "cell_type": "code",
   "execution_count": null,
   "metadata": {
    "is_executing": true
   },
   "outputs": [],
   "source": [
    "import matplotlib.pyplot as plt\n",
    "plt.style.use('seaborn-poster')\n",
    "%matplotlib inline\n",
    "\n",
    "def serial(n):\n",
    "    t0 = time.time()\n",
    "    results = []\n",
    "    for i in range(n): \n",
    "        results.append(random_square(i))\n",
    "    t1 = time.time()\n",
    "    exec_time = t1 - t0\n",
    "    return exec_time\n",
    "\n",
    "def parallel(n):\n",
    "    t0 = time.time()\n",
    "    n_cpu = mp.cpu_count()\n",
    "\n",
    "    pool = mp.Pool(processes=n_cpu)\n",
    "    results = [pool.map(random_square, range(n))]\n",
    "    t1 = time.time()\n",
    "    exec_time = t1 - t0\n",
    "    return exec_time\n",
    "\n",
    "\n",
    "n_run = np.logspace(1, 7, num = 7)\n",
    "t_serial = [serial(int(n)) for n in n_run]\n",
    "t_parallel = [parallel(int(n)) for n in n_run]\n",
    "\n",
    "\n",
    "plt.figure(figsize = (10, 6))\n",
    "plt.plot(n_run, t_serial, '-o', label = 'serial')\n",
    "plt.plot(n_run, t_parallel, '-o', label = 'parallel')\n",
    "plt.loglog()\n",
    "plt.legend()\n",
    "plt.ylabel('Execution time (s)')\n",
    "plt.xlabel('Number of random points')\n",
    "plt.show()"
   ]
  }
 ],
 "metadata": {
  "kernelspec": {
   "display_name": "pytorch",
   "language": "python",
   "name": "python3"
  },
  "language_info": {
   "codemirror_mode": {
    "name": "ipython",
    "version": 3
   },
   "file_extension": ".py",
   "mimetype": "text/x-python",
   "name": "python",
   "nbconvert_exporter": "python",
   "pygments_lexer": "ipython3",
   "version": "3.10.11"
  }
 },
 "nbformat": 4,
 "nbformat_minor": 2
}
