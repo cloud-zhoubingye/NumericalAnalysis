{
 "cells": [
  {
   "cell_type": "markdown",
   "metadata": {},
   "source": [
    "### Multiprocessing"
   ]
  },
  {
   "cell_type": "code",
   "execution_count": 6,
   "metadata": {
    "ExecuteTime": {
     "end_time": "2023-10-29T08:47:09.285598700Z",
     "start_time": "2023-10-29T08:47:09.275583200Z"
    }
   },
   "outputs": [
    {
     "name": "stdout",
     "output_type": "stream",
     "text": [
      "Number of CPU:  20\n"
     ]
    }
   ],
   "source": [
    "import multiprocessing as mp\n",
    "print(\"Number of CPU: \",mp.cpu_count())"
   ]
  },
  {
   "cell_type": "code",
   "execution_count": 7,
   "outputs": [],
   "source": [
    "from joblib import Parallel, delayed\n",
    "import numpy as np\n",
    "\n",
    "def random_square(seed):\n",
    "    np.random.seed(seed)\n",
    "    random_num = np.random.randint(0, 10)\n",
    "    return random_num**2"
   ],
   "metadata": {
    "collapsed": false,
    "ExecuteTime": {
     "end_time": "2023-10-29T08:47:11.716504600Z",
     "start_time": "2023-10-29T08:47:11.512661500Z"
    }
   }
  },
  {
   "cell_type": "code",
   "execution_count": 8,
   "outputs": [
    {
     "name": "stderr",
     "output_type": "stream",
     "text": [
      "[Parallel(n_jobs=-1)]: Using backend LokyBackend with 20 concurrent workers.\n",
      "[Parallel(n_jobs=-1)]: Done  10 tasks      | elapsed:    1.9s\n",
      "[Parallel(n_jobs=-1)]: Done 260 tasks      | elapsed:    2.0s\n",
      "[Parallel(n_jobs=-1)]: Done 17940 tasks      | elapsed:    2.5s\n",
      "[Parallel(n_jobs=-1)]: Done 948632 tasks      | elapsed:    5.1s\n",
      "[Parallel(n_jobs=-1)]: Done 1000000 out of 1000000 | elapsed:    5.2s finished\n"
     ]
    }
   ],
   "source": [
    "results = Parallel(n_jobs=-1,verbose=1)(delayed(random_square)(i) for i in range(1000000))"
   ],
   "metadata": {
    "collapsed": false,
    "ExecuteTime": {
     "end_time": "2023-10-29T08:47:19.385733900Z",
     "start_time": "2023-10-29T08:47:14.053730800Z"
    }
   }
  },
  {
   "cell_type": "markdown",
   "source": [
    "### Problems\n",
    "##### Use multiprocessing package to parallel the following code, and record the running time.\n",
    "##### Use joblib to parallel the above example, and use the multiprocessing as the backend."
   ],
   "metadata": {
    "collapsed": false
   }
  },
  {
   "cell_type": "code",
   "execution_count": 9,
   "outputs": [],
   "source": [
    "def plus_cube(x, y):\n",
    "    return (x+y)**3"
   ],
   "metadata": {
    "collapsed": false,
    "ExecuteTime": {
     "end_time": "2023-10-29T08:47:25.292876600Z",
     "start_time": "2023-10-29T08:47:25.277122500Z"
    }
   }
  },
  {
   "cell_type": "code",
   "execution_count": 28,
   "outputs": [],
   "source": [
    "results=[]\n",
    "for x, y in zip(range(10000), range(10000)):\n",
    "    results.append(plus_cube(x, y))"
   ],
   "metadata": {
    "collapsed": false,
    "ExecuteTime": {
     "end_time": "2023-10-29T08:48:45.602813200Z",
     "start_time": "2023-10-29T08:48:45.595943500Z"
    }
   }
  },
  {
   "cell_type": "code",
   "execution_count": 29,
   "outputs": [
    {
     "name": "stderr",
     "output_type": "stream",
     "text": [
      "[Parallel(n_jobs=-1)]: Using backend LokyBackend with 20 concurrent workers.\n",
      "[Parallel(n_jobs=-1)]: Done  10 tasks      | elapsed:    0.0s\n",
      "[Parallel(n_jobs=-1)]: Done 600 tasks      | elapsed:    0.0s\n",
      "[Parallel(n_jobs=-1)]: Done 8850 tasks      | elapsed:    0.1s\n",
      "[Parallel(n_jobs=-1)]: Done 9961 out of 10000 | elapsed:    0.1s remaining:    0.0s\n",
      "[Parallel(n_jobs=-1)]: Done 10000 out of 10000 | elapsed:    0.1s finished\n"
     ]
    }
   ],
   "source": [
    "results=Parallel(n_jobs=-1,verbose=1)(delayed(plus_cube)(i,j) for i,j in zip(range(10000), range(10000)))"
   ],
   "metadata": {
    "collapsed": false,
    "ExecuteTime": {
     "end_time": "2023-10-29T08:50:33.320517900Z",
     "start_time": "2023-10-29T08:50:33.101576400Z"
    }
   }
  }
 ],
 "metadata": {
  "kernelspec": {
   "display_name": "pytorch",
   "language": "python",
   "name": "python3"
  },
  "language_info": {
   "codemirror_mode": {
    "name": "ipython",
    "version": 3
   },
   "file_extension": ".py",
   "mimetype": "text/x-python",
   "name": "python",
   "nbconvert_exporter": "python",
   "pygments_lexer": "ipython3",
   "version": "3.10.11"
  }
 },
 "nbformat": 4,
 "nbformat_minor": 2
}
