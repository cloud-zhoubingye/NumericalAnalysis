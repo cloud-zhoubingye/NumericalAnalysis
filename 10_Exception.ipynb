{
 "cells": [
  {
   "cell_type": "markdown",
   "metadata": {},
   "source": [
    "### Try/Except"
   ]
  },
  {
   "cell_type": "code",
   "execution_count": 12,
   "metadata": {},
   "outputs": [
    {
     "name": "stdout",
     "output_type": "stream",
     "text": [
      "Oops! x was not a valid number. Try again...\n"
     ]
    }
   ],
   "source": [
    "x = '6'\n",
    "try:\n",
    "    if x > 3:\n",
    "        print('X is larger than 3')\n",
    "except TypeError:\n",
    "    print(\"Oops! x was not a valid number. Try again...\")"
   ]
  },
  {
   "cell_type": "code",
   "execution_count": 13,
   "metadata": {},
   "outputs": [
    {
     "name": "stdout",
     "output_type": "stream",
     "text": [
      "Something is wrong with x = s\n"
     ]
    }
   ],
   "source": [
    "x = 's'\n",
    "\n",
    "try:\n",
    "    if x > 3:\n",
    "        print(x)\n",
    "except:\n",
    "    print(f'Something is wrong with x = {x}')"
   ]
  },
  {
   "cell_type": "code",
   "execution_count": 14,
   "metadata": {},
   "outputs": [
    {
     "name": "stdout",
     "output_type": "stream",
     "text": [
      "Oops! x was not a valid number. Try again...\n"
     ]
    }
   ],
   "source": [
    "def test_exceptions(x):\n",
    "    try:\n",
    "        x = int(x)\n",
    "        if x > 3:\n",
    "            print(x)\n",
    "    except TypeError:\n",
    "        print(\"Oops! x was not a valid number. Try again...\")\n",
    "    except ValueError:\n",
    "        print(\"Oops! Can not convert x to integer. Try again...\")\n",
    "    except:\n",
    "        print(\"Unexpected error\")\n",
    "\n",
    "x = [1, 2]\n",
    "test_exceptions(x)"
   ]
  },
  {
   "cell_type": "code",
   "execution_count": 15,
   "metadata": {},
   "outputs": [
    {
     "name": "stdout",
     "output_type": "stream",
     "text": [
      "Oops!\n"
     ]
    }
   ],
   "source": [
    "try:\n",
    "    x = 10\n",
    "    if x > 5:\n",
    "        raise(Exception('x should be less or equal to 5'))\n",
    "except Exception:\n",
    "    print('Oops!')"
   ]
  },
  {
   "cell_type": "markdown",
   "metadata": {},
   "source": [
    "### Type Checking"
   ]
  },
  {
   "cell_type": "code",
   "execution_count": 16,
   "metadata": {},
   "outputs": [],
   "source": [
    "def my_adder(a, b, c):\n",
    "    # type check\n",
    "    if isinstance(a, (float, int, complex)) and isinstance(b, (float, int, complex)) and isinstance(c, (float, int, complex)):\n",
    "        pass\n",
    "    else:\n",
    "        raise(Exception('Input arguments must be numbers'))\n",
    "        \n",
    "    out = a + b + c\n",
    "    return out"
   ]
  },
  {
   "cell_type": "code",
   "execution_count": 17,
   "metadata": {},
   "outputs": [
    {
     "data": {
      "text/plain": [
       "6"
      ]
     },
     "execution_count": 17,
     "metadata": {},
     "output_type": "execute_result"
    }
   ],
   "source": [
    "my_adder(1, 2, 3)"
   ]
  },
  {
   "cell_type": "code",
   "execution_count": 18,
   "metadata": {},
   "outputs": [
    {
     "data": {
      "text/plain": [
       "6.0"
      ]
     },
     "execution_count": 18,
     "metadata": {},
     "output_type": "execute_result"
    }
   ],
   "source": [
    "my_adder(1.0, 2, 3)"
   ]
  },
  {
   "cell_type": "code",
   "execution_count": 19,
   "metadata": {},
   "outputs": [
    {
     "data": {
      "text/plain": [
       "(5+5j)"
      ]
     },
     "execution_count": 19,
     "metadata": {},
     "output_type": "execute_result"
    }
   ],
   "source": [
    "my_adder(1j, 2+2j, 3+2j)"
   ]
  },
  {
   "cell_type": "markdown",
   "metadata": {},
   "source": [
    "### Debugging"
   ]
  },
  {
   "cell_type": "code",
   "execution_count": 20,
   "metadata": {},
   "outputs": [],
   "source": [
    "def square_number(x):\n",
    "    \n",
    "    sq = x**2\n",
    "    sq += x\n",
    "    \n",
    "    return sq"
   ]
  },
  {
   "cell_type": "code",
   "execution_count": 22,
   "metadata": {},
   "outputs": [
    {
     "name": "stdout",
     "output_type": "stream",
     "text": [
      "Automatic pdb calling has been turned ON\n"
     ]
    }
   ],
   "source": [
    "%pdb on"
   ]
  },
  {
   "cell_type": "code",
   "execution_count": 23,
   "metadata": {},
   "outputs": [
    {
     "ename": "TypeError",
     "evalue": "unsupported operand type(s) for ** or pow(): 'str' and 'int'",
     "output_type": "error",
     "traceback": [
      "\u001b[1;31m---------------------------------------------------------------------------\u001b[0m",
      "\u001b[1;31mTypeError\u001b[0m                                 Traceback (most recent call last)",
      "\u001b[1;32md:\\MyProgramme\\Python Programming\\NumericalAnalysis\\10_Exception.ipynb 单元格 14\u001b[0m line \u001b[0;36m1\n\u001b[1;32m----> <a href='vscode-notebook-cell:/d%3A/MyProgramme/Python%20Programming/NumericalAnalysis/10_Exception.ipynb#X21sZmlsZQ%3D%3D?line=0'>1</a>\u001b[0m square_number(\u001b[39m'\u001b[39;49m\u001b[39m10\u001b[39;49m\u001b[39m'\u001b[39;49m)\n",
      "\u001b[1;32md:\\MyProgramme\\Python Programming\\NumericalAnalysis\\10_Exception.ipynb 单元格 14\u001b[0m line \u001b[0;36m3\n\u001b[0;32m      <a href='vscode-notebook-cell:/d%3A/MyProgramme/Python%20Programming/NumericalAnalysis/10_Exception.ipynb#X21sZmlsZQ%3D%3D?line=0'>1</a>\u001b[0m \u001b[39mdef\u001b[39;00m \u001b[39msquare_number\u001b[39m(x):\n\u001b[1;32m----> <a href='vscode-notebook-cell:/d%3A/MyProgramme/Python%20Programming/NumericalAnalysis/10_Exception.ipynb#X21sZmlsZQ%3D%3D?line=2'>3</a>\u001b[0m     sq \u001b[39m=\u001b[39m x\u001b[39m*\u001b[39;49m\u001b[39m*\u001b[39;49m\u001b[39m2\u001b[39;49m\n\u001b[0;32m      <a href='vscode-notebook-cell:/d%3A/MyProgramme/Python%20Programming/NumericalAnalysis/10_Exception.ipynb#X21sZmlsZQ%3D%3D?line=3'>4</a>\u001b[0m     sq \u001b[39m+\u001b[39m\u001b[39m=\u001b[39m x\n\u001b[0;32m      <a href='vscode-notebook-cell:/d%3A/MyProgramme/Python%20Programming/NumericalAnalysis/10_Exception.ipynb#X21sZmlsZQ%3D%3D?line=5'>6</a>\u001b[0m     \u001b[39mreturn\u001b[39;00m sq\n",
      "\u001b[1;31mTypeError\u001b[0m: unsupported operand type(s) for ** or pow(): 'str' and 'int'"
     ]
    },
    {
     "name": "stdout",
     "output_type": "stream",
     "text": [
      "> \u001b[1;32mc:\\users\\zhou\\appdata\\local\\temp\\ipykernel_18192\\776842912.py\u001b[0m(3)\u001b[0;36msquare_number\u001b[1;34m()\u001b[0m\n",
      "\n"
     ]
    }
   ],
   "source": [
    "square_number('10')"
   ]
  },
  {
   "cell_type": "code",
   "execution_count": 1,
   "metadata": {},
   "outputs": [
    {
     "name": "stdout",
     "output_type": "stream",
     "text": [
      "Automatic pdb calling has been turned OFF\n"
     ]
    }
   ],
   "source": [
    "%pdb off"
   ]
  }
 ],
 "metadata": {
  "kernelspec": {
   "display_name": "pytorch",
   "language": "python",
   "name": "python3"
  },
  "language_info": {
   "codemirror_mode": {
    "name": "ipython",
    "version": 3
   },
   "file_extension": ".py",
   "mimetype": "text/x-python",
   "name": "python",
   "nbconvert_exporter": "python",
   "pygments_lexer": "ipython3",
   "version": "3.10.11"
  }
 },
 "nbformat": 4,
 "nbformat_minor": 2
}
