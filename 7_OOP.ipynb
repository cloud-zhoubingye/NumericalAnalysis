{
 "cells": [
  {
   "cell_type": "markdown",
   "metadata": {},
   "source": [
    "### Problem 5\n",
    "###### The following is a definition of the class Point that takes in the coordinate x, y. Add a method plot_point that plot the position of point."
   ]
  },
  {
   "cell_type": "markdown",
   "metadata": {},
   "source": [
    "### Problem 6\n",
    "###### Use the class from problem 5, add a method calculate_dist which takes in x and y from another point, and returns the distance calculated between the two points."
   ]
  },
  {
   "cell_type": "code",
   "execution_count": 1,
   "metadata": {},
   "outputs": [],
   "source": [
    "import matplotlib.pyplot as plt\n",
    "import numpy\n",
    "\n",
    "class Point():\n",
    "    def __init__(self, x, y):\n",
    "        self.x = x\n",
    "        self.y = y\n",
    "    def plot_point(self):\n",
    "        plt.scatter(self.x, self.y)\n",
    "        plt.xlabel('X')\n",
    "        plt.ylabel('Y')\n",
    "        plt.title('Plot of Point')\n",
    "        plt.show()\n",
    "    def calculate_dist(self,p):\n",
    "        return numpy.sqrt((self.x-p.x)**2+(self.y-p.y)**2)"
   ]
  },
  {
   "cell_type": "code",
   "execution_count": 2,
   "metadata": {},
   "outputs": [
    {
     "data": {
      "image/png": "[encoded data removed]",
      "text/plain": [
       "<Figure size 640x480 with 1 Axes>"
      ]
     },
     "metadata": {},
     "output_type": "display_data"
    },
    {
     "data": {
      "text/plain": [
       "5.385164807134504"
      ]
     },
     "execution_count": 2,
     "metadata": {},
     "output_type": "execute_result"
    }
   ],
   "source": [
    "point=Point(3,4)\n",
    "point.plot_point()\n",
    "point.calculate_dist(p=Point(5,9))"
   ]
  },
  {
   "cell_type": "markdown",
   "metadata": {},
   "source": [
    "### Problem 11\n",
    "###### Create a class to model some real world object and create a new class to inherit from it. One example can be the following. You should use a different example and use as many things we learned as possible."
   ]
  },
  {
   "cell_type": "code",
   "execution_count": 7,
   "metadata": {},
   "outputs": [
    {
     "name": "stdout",
     "output_type": "stream",
     "text": [
      "I am ready to drive!\n",
      "I am still running!\n"
     ]
    }
   ],
   "source": [
    "class Car():\n",
    "    def __init__(self, brand, color):\n",
    "        self.brand = brand\n",
    "        self.color = color\n",
    "    \n",
    "    def start_my_car(self):\n",
    "        print('I am ready to drive!')\n",
    "        \n",
    "class Truck(Car):\n",
    "    def __init__(self, brand, color, size):\n",
    "        super().__init__(brand, color)\n",
    "        self.size = size\n",
    "        \n",
    "    def start_my_car(self, key):\n",
    "        if key == 'truck_key':\n",
    "            print('I am ready to drive!')\n",
    "        else:\n",
    "            print('Key is not right')\n",
    "            \n",
    "    def stop_my_car(self, brake):\n",
    "        if brake:\n",
    "            print('The engine is stopped!')\n",
    "        else:\n",
    "            print('I am still running!')\n",
    "            \n",
    "truck1 = Truck('Toyota', 'Silver', 'Large')\n",
    "truck1.start_my_car('truck_key')\n",
    "truck1.stop_my_car(brake = False)"
   ]
  },
  {
   "cell_type": "code",
   "execution_count": 14,
   "metadata": {},
   "outputs": [
    {
     "name": "stdout",
     "output_type": "stream",
     "text": [
      "A boy was born!\n",
      "A boy was born!\n",
      "\tHe is handsome of score  100\n",
      "A boy of  65  weight and  185  height fell in love!\n",
      "A boy of  70  weight and  188  height fell in love!\n",
      "\tA handsome boy fell in love with anoher handsome boy\n"
     ]
    }
   ],
   "source": [
    "class Boy():\n",
    "    def __init__(self,height,weight):\n",
    "        self.height=height\n",
    "        self.weight=weight\n",
    "    def born(self):\n",
    "        print('A boy was born!')\n",
    "    def love(self):\n",
    "        print('A boy of ',self.weight,' weight and ',self.height,' height fell in love!')\n",
    "\n",
    "class HandsomeBoy(Boy):\n",
    "    def __init__(self, height, weight,faceScore):\n",
    "        super().__init__(height, weight)\n",
    "        self.faceScore=faceScore\n",
    "    def born(self):\n",
    "        super().born()\n",
    "        print('\\tHe is handsome of score ',self.faceScore)\n",
    "    def love(self):\n",
    "        super().love()\n",
    "        print('\\tA handsome boy fell in love with anoher handsome boy')\n",
    "\n",
    "boy1=Boy(185,65)\n",
    "boy2=HandsomeBoy(188,70,100)\n",
    "boy1.born()\n",
    "boy2.born()\n",
    "boy1.love()\n",
    "boy2.love()"
   ]
  }
 ],
 "metadata": {
  "kernelspec": {
   "display_name": "pytorch",
   "language": "python",
   "name": "python3"
  },
  "language_info": {
   "codemirror_mode": {
    "name": "ipython",
    "version": 3
   },
   "file_extension": ".py",
   "mimetype": "text/x-python",
   "name": "python",
   "nbconvert_exporter": "python",
   "pygments_lexer": "ipython3",
   "version": "3.10.11"
  }
 },
 "nbformat": 4,
 "nbformat_minor": 2
}
